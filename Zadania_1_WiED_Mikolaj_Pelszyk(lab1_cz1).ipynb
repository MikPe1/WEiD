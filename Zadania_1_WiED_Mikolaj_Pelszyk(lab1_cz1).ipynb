{
 "cells": [
  {
   "cell_type": "code",
   "execution_count": 91,
   "metadata": {},
   "outputs": [
    {
     "name": "stdout",
     "output_type": "stream",
     "text": [
      "Zad.1:\n",
      " [5 5 5 5 5 5 5 5 5 5 5 5 5 5 5 5 5 5 5 5 5 5 5 5 5 5 5 5 5 5 5 5 5 5 5 5 5\n",
      " 5 5 5 5 5 5 5 5 5 5 5 5 5]\n"
     ]
    }
   ],
   "source": [
    "import numpy as np\n",
    "# 1.Utwórz tablicę zawierającą 50 piątek\n",
    "table_z1 = np.full(50,5)\n",
    "print(\"Zad.1:\\n\",table_z1)\n"
   ]
  },
  {
   "cell_type": "code",
   "execution_count": 92,
   "metadata": {},
   "outputs": [
    {
     "name": "stdout",
     "output_type": "stream",
     "text": [
      "Zad.2:\n",
      " [[ 1  2  3  4  5]\n",
      " [ 6  7  8  9 10]\n",
      " [11 12 13 14 15]\n",
      " [16 17 18 19 20]\n",
      " [21 22 23 24 25]]\n"
     ]
    }
   ],
   "source": [
    "# 2.Utwórz tablicę 5x5 z wartościami od 1 do 25\n",
    "table_z2 = np.arange(1, 26).reshape((5, 5))\n",
    "print(\"Zad.2:\\n\",table_z2)"
   ]
  },
  {
   "cell_type": "code",
   "execution_count": 93,
   "metadata": {},
   "outputs": [
    {
     "name": "stdout",
     "output_type": "stream",
     "text": [
      "Zad.3:\n",
      " [10 12 14 16 18 20 22 24 26 28 30 32 34 36 38 40 42 44 46 48 50]\n"
     ]
    }
   ],
   "source": [
    "# 3.Utwórz tablicę liczb parzystych od 10 do 50\n",
    "table_z3 = np.arange(10,51,2)\n",
    "print(\"Zad.3:\\n\",table_z3)"
   ]
  },
  {
   "cell_type": "code",
   "execution_count": 94,
   "metadata": {},
   "outputs": [
    {
     "name": "stdout",
     "output_type": "stream",
     "text": [
      "Zad.4:\n",
      " [[8. 0. 0. 0. 0.]\n",
      " [0. 8. 0. 0. 0.]\n",
      " [0. 0. 8. 0. 0.]\n",
      " [0. 0. 0. 8. 0.]\n",
      " [0. 0. 0. 0. 8.]]\n"
     ]
    }
   ],
   "source": [
    "# 4.Utwórz macierz w której na przekątnej znajdą  się wartości równe 8 a pozostałe będą równe 0\n",
    "matrix_z4 = np.eye(5)*8\n",
    "print(\"Zad.4:\\n\",matrix_z4)"
   ]
  },
  {
   "cell_type": "code",
   "execution_count": 95,
   "metadata": {},
   "outputs": [
    {
     "name": "stdout",
     "output_type": "stream",
     "text": [
      "Zad.5: \n",
      " [[0.   0.01 0.02 0.03 0.04 0.05 0.06 0.07 0.08 0.09]\n",
      " [0.1  0.11 0.12 0.13 0.14 0.15 0.16 0.17 0.18 0.19]\n",
      " [0.2  0.21 0.22 0.23 0.24 0.25 0.26 0.27 0.28 0.29]\n",
      " [0.3  0.31 0.32 0.33 0.34 0.35 0.36 0.37 0.38 0.39]\n",
      " [0.4  0.41 0.42 0.43 0.44 0.45 0.46 0.47 0.48 0.49]\n",
      " [0.5  0.51 0.52 0.53 0.54 0.55 0.56 0.57 0.58 0.59]\n",
      " [0.6  0.61 0.62 0.63 0.64 0.65 0.66 0.67 0.68 0.69]\n",
      " [0.7  0.71 0.72 0.73 0.74 0.75 0.76 0.77 0.78 0.79]\n",
      " [0.8  0.81 0.82 0.83 0.84 0.85 0.86 0.87 0.88 0.89]\n",
      " [0.9  0.91 0.92 0.93 0.94 0.95 0.96 0.97 0.98 0.99]]\n"
     ]
    }
   ],
   "source": [
    "# 5.Utwórz tablicę o rozmiarach 10x10 z wartościami zwiększajacymi sie o 0.01\n",
    "table_z5 = np.arange(0,1,0.01).reshape(10,10)\n",
    "print(\"Zad.5: \\n\",table_z5)"
   ]
  },
  {
   "cell_type": "code",
   "execution_count": 98,
   "metadata": {},
   "outputs": [
    {
     "name": "stdout",
     "output_type": "stream",
     "text": [
      "Zad.6: \n",
      " [0.         0.02040816 0.04081633 0.06122449 0.08163265 0.10204082\n",
      " 0.12244898 0.14285714 0.16326531 0.18367347 0.20408163 0.2244898\n",
      " 0.24489796 0.26530612 0.28571429 0.30612245 0.32653061 0.34693878\n",
      " 0.36734694 0.3877551  0.40816327 0.42857143 0.44897959 0.46938776\n",
      " 0.48979592 0.51020408 0.53061224 0.55102041 0.57142857 0.59183673\n",
      " 0.6122449  0.63265306 0.65306122 0.67346939 0.69387755 0.71428571\n",
      " 0.73469388 0.75510204 0.7755102  0.79591837 0.81632653 0.83673469\n",
      " 0.85714286 0.87755102 0.89795918 0.91836735 0.93877551 0.95918367\n",
      " 0.97959184 1.        ]\n"
     ]
    }
   ],
   "source": [
    "# 6.Utworzyć przestrzeń liniową 50 wartości z zakresu od 0 do 1\n",
    "linspace_z6 = np.linspace(0,1,50)\n",
    "print(\"Zad.6: \\n\",linspace_z6)"
   ]
  },
  {
   "cell_type": "code",
   "execution_count": 110,
   "metadata": {},
   "outputs": [
    {
     "name": "stdout",
     "output_type": "stream",
     "text": [
      "Zad. 7:\n",
      " [12 13 14 15 16 17 18 19 20 21 22 23]\n"
     ]
    }
   ],
   "source": [
    "# 7.Wybierz podtablice 12-elementowa z tablicy utworzonej w  zad.2 z wartosciami w zakresie 12-25\n",
    "table_z7 = table_z2[(table_z2 >=12)][0:12]\n",
    "print(\"Zad. 7:\\n\",table_z7)"
   ]
  },
  {
   "cell_type": "code",
   "execution_count": 109,
   "metadata": {},
   "outputs": [
    {
     "name": "stdout",
     "output_type": "stream",
     "text": [
      "Zad. 8:\n",
      " [[ 5]\n",
      " [10]\n",
      " [15]]\n"
     ]
    }
   ],
   "source": [
    "# 8.Wybrać 3 pierwsze elementy z ostatniej kolumny tablicy utworzonej w zadaniu 2, a następnie ułożyć z nich kolumnę.\n",
    "table_z8 = table_z2[:3,-1]\n",
    "table_z8 = table_z8.reshape((3,1))\n",
    "print(\"Zad. 8:\\n\",table_z8)"
   ]
  },
  {
   "cell_type": "code",
   "execution_count": 101,
   "metadata": {},
   "outputs": [
    {
     "name": "stdout",
     "output_type": "stream",
     "text": [
      "Zad. 9:\n",
      " suma wynosi 205\n"
     ]
    }
   ],
   "source": [
    "\n",
    "# 9. Wyznaczyć sumę wartości elementów znajdujących się w dwóch ostatnich wierszach macierzy utworzonej w zadaniu 2.\n",
    "table_z9 = table_z2[:3,-1]\n",
    "sum_z9 = np.sum(table_z2[-2:,:])\n",
    "print(\"Zad. 9:\\n suma wynosi\",sum_z9)"
   ]
  },
  {
   "cell_type": "code",
   "execution_count": 102,
   "metadata": {},
   "outputs": [
    {
     "name": "stdout",
     "output_type": "stream",
     "text": [
      "Zad.10:\n",
      " [[[[5 7 6 1 4 1]\n",
      "   [9 4 6 2 8 3]]\n",
      "\n",
      "  [[5 6 4 3 4 0]\n",
      "   [0 1 0 0 0 9]]]\n",
      "\n",
      "\n",
      " [[[6 0 6 7 6 0]\n",
      "   [0 0 4 5 3 5]]\n",
      "\n",
      "  [[4 1 9 0 9 7]\n",
      "   [9 6 7 0 0 8]]]\n",
      "\n",
      "\n",
      " [[[6 9 0 9 2 6]\n",
      "   [3 5 6 6 4 6]]\n",
      "\n",
      "  [[3 3 5 8 9 6]\n",
      "   [1 5 3 4 5 2]]]\n",
      "\n",
      "\n",
      " [[[8 0 6 7 9 3]\n",
      "   [4 4 8 1 0 3]]\n",
      "\n",
      "  [[7 6 3 6 1 6]\n",
      "   [3 2 3 2 2 8]]]\n",
      "\n",
      "\n",
      " [[[5 5 5 9 2 8]\n",
      "   [7 5 9 3 7 0]]\n",
      "\n",
      "  [[9 8 0 2 7 7]\n",
      "   [2 9 4 0 8 0]]]]\n"
     ]
    }
   ],
   "source": [
    "# 10.Przygotować skrypt, który stworzy tensor zawierający losowe wartości całkowite, losowym wymiarze i losowym rozmiarze każdego z wymiarów.\n",
    "num_dimensions = np.random.randint(1, 5) #od 1 do 4 wymiarow (dla ograniczenia obliczen)\n",
    "shape = tuple(np.random.randint(2, 8, size=num_dimensions)) #od 2 do 7 rozmiar wymiaru (dla ograniczenia obliczen)\n",
    "tensor_z10 = np.random.randint(0, 10, size=shape) \n",
    "print(\"Zad.10:\\n\",tensor_z10)"
   ]
  },
  {
   "cell_type": "code",
   "execution_count": 103,
   "metadata": {},
   "outputs": [
    {
     "name": "stdout",
     "output_type": "stream",
     "text": [
      "Zad.11:\n",
      " [[1 2 3 4 5]\n",
      " [1 2 3 4 5]\n",
      " [1 2 3 4 5]\n",
      " [1 2 3 4 5]]\n"
     ]
    }
   ],
   "source": [
    "# 11.Przygotować macierz, która w każdym wierszu będzie zawierała wartości od 1 do 5. Uwaga, nie używać w tym celu gotowych list do utworzenia macierzy.\n",
    "rows = 4 #ile ma miec wierszy\n",
    "matrix_z11 = np.tile(np.arange(1, 6), (rows, 1))\n",
    "print(\"Zad.11:\\n\",matrix_z11)"
   ]
  },
  {
   "cell_type": "code",
   "execution_count": 104,
   "metadata": {},
   "outputs": [
    {
     "name": "stdout",
     "output_type": "stream",
     "text": [
      "Zad.12:\n",
      " [0.50070587 0.54426549 0.55319169 0.70279521 0.80126518 0.52279078\n",
      " 0.9000036  0.57227569 0.81156647 0.        ]\n"
     ]
    }
   ],
   "source": [
    "# 12.Utworzyć wektor 10-elementowy składający się z wartości losowych, a następnie wstawić 0 w miejsce wartości najmniejszej.\n",
    "vector_z12 = np.random.rand(10)\n",
    "min_value_index = np.argmin(vector_z12)\n",
    "vector_z12[min_value_index] = 0\n",
    "print(\"Zad.12:\\n\",vector_z12)"
   ]
  },
  {
   "cell_type": "code",
   "execution_count": 105,
   "metadata": {},
   "outputs": [
    {
     "name": "stdout",
     "output_type": "stream",
     "text": [
      "Zad.13:\n",
      " wektor: [0.73848332 0.02113754 0.04035125 0.6007129  0.83725254 0.77662527\n",
      " 0.67886057 0.35541235 0.69990015 0.2307776 ] ,\n",
      " skalar: 0.09360816477286249 ,\n",
      " Najbliższa wartość w wektorze Z do skalaru v: 0.040351247155556824\n"
     ]
    }
   ],
   "source": [
    "# 13.Napisać skrypt, który w losowym wektorze Z znajdzie najbliższą wartość losowego skalara v.\n",
    "Z = np.random.rand(10)\n",
    "v = np.random.rand()\n",
    "\n",
    "# Znajdź indeks najbliższej wartości w wektorze Z do skalaru v\n",
    "closest_index = np.abs(Z - v).argmin()\n",
    "closest_value = Z[closest_index]\n",
    "\n",
    "\n",
    "print(\"Zad.13:\\n\", \"wektor:\",Z,\",\\n\", \"skalar:\",v,\",\\n\", \"Najbliższa wartość w wektorze Z do skalaru v:\", closest_value)"
   ]
  },
  {
   "cell_type": "code",
   "execution_count": 106,
   "metadata": {},
   "outputs": [
    {
     "name": "stdout",
     "output_type": "stream",
     "text": [
      "Zad.14: \n",
      "Początkowa macierz M:\n",
      "[[2.91865243e-01 8.28606788e-01 9.37163260e-01 7.32337272e-01\n",
      "  7.33327862e-01 4.35357734e-01 1.33165597e-01 7.12283170e-01]\n",
      " [4.44622260e-01 4.25066164e-01 7.90915735e-01 4.84358155e-01\n",
      "  5.15692405e-01 9.35944403e-01 6.44478499e-02 7.14081687e-01]\n",
      " [6.49525286e-01 8.20981243e-01 5.15303984e-01 5.13425369e-01\n",
      "  2.93343451e-01 5.09787705e-01 7.87344601e-01 7.36306059e-01]\n",
      " [3.77654412e-04 7.85606546e-01 4.40591731e-01 5.24552812e-01\n",
      "  4.05934703e-01 3.20722603e-02 5.41250186e-02 8.32745719e-02]\n",
      " [4.15747865e-01 5.89924783e-01 4.51050792e-01 6.81157987e-03\n",
      "  3.35710177e-01 4.64912234e-01 4.51306381e-01 2.97502969e-01]]\n",
      "\n",
      "Macierz M po zamianie wierszy:\n",
      "[[2.91865243e-01 8.28606788e-01 9.37163260e-01 7.32337272e-01\n",
      "  7.33327862e-01 4.35357734e-01 1.33165597e-01 7.12283170e-01]\n",
      " [4.44622260e-01 4.25066164e-01 7.90915735e-01 4.84358155e-01\n",
      "  5.15692405e-01 9.35944403e-01 6.44478499e-02 7.14081687e-01]\n",
      " [3.77654412e-04 7.85606546e-01 4.40591731e-01 5.24552812e-01\n",
      "  4.05934703e-01 3.20722603e-02 5.41250186e-02 8.32745719e-02]\n",
      " [6.49525286e-01 8.20981243e-01 5.15303984e-01 5.13425369e-01\n",
      "  2.93343451e-01 5.09787705e-01 7.87344601e-01 7.36306059e-01]\n",
      " [4.15747865e-01 5.89924783e-01 4.51050792e-01 6.81157987e-03\n",
      "  3.35710177e-01 4.64912234e-01 4.51306381e-01 2.97502969e-01]]\n"
     ]
    }
   ],
   "source": [
    "# 14.Wygenerować losową macierz M o rozmiarach 5x8, a następnie zamienić kolejnością 2 losowo wskazane wiersze.\n",
    "M = np.random.rand(5, 8)\n",
    "\n",
    "# Wybierz losowo dwa różne indeksy wierszy\n",
    "row_indices = np.random.choice(5, 2, replace=False)\n",
    "print(\"Zad.14: \\nPoczątkowa macierz M:\")\n",
    "print(M)\n",
    "\n",
    "# Zamień kolejnością wybrane wiersze\n",
    "M[row_indices[0], :], M[row_indices[1], :] = M[row_indices[1], :], M[row_indices[0], :].copy()\n",
    "print(\"\\nMacierz M po zamianie wierszy:\")\n",
    "print(M)"
   ]
  },
  {
   "cell_type": "code",
   "execution_count": 107,
   "metadata": {},
   "outputs": [
    {
     "name": "stdout",
     "output_type": "stream",
     "text": [
      "Zad.15: \n",
      "Początkowa macierz 5x5:\n",
      "[[ 1  2  3  4  5]\n",
      " [ 6  7  8  9 10]\n",
      " [11 12 13 14 15]\n",
      " [16 17 18 19 20]\n",
      " [21 22 23 24 25]]\n",
      "\n",
      "Wektor kolumnowy:\n",
      "[ 1  6 11 16 21  2  7 12 17 22  3  8 13 18 23  4  9 14 19 24  5 10 15 20\n",
      " 25]\n"
     ]
    }
   ],
   "source": [
    "# 15.Wygenerować macierz o rozmiarach 5x5 wypełnioną dowolnymi kolejnymi wartościami, a następnie przetransformować macierz do postaci wektora kolumnowego zachowując wszystkie wartości.\n",
    "matrix_5x5 = np.arange(1, 26).reshape((5, 5))\n",
    "print(\"Zad.15: \\nPoczątkowa macierz 5x5:\")\n",
    "print(matrix_5x5)\n",
    "\n",
    "# macierz do postaci wektora kolumnowego\n",
    "vector_column = matrix_5x5.flatten(order='F')  # 'F' oznacza zamianę kolumnowo (kolumny są czytane w kolejności)\n",
    "print(\"\\nWektor kolumnowy:\")\n",
    "print(vector_column)"
   ]
  },
  {
   "cell_type": "code",
   "execution_count": null,
   "metadata": {},
   "outputs": [],
   "source": []
  }
 ],
 "metadata": {
  "kernelspec": {
   "display_name": "Python 3 (ipykernel)",
   "language": "python",
   "name": "python3"
  },
  "language_info": {
   "codemirror_mode": {
    "name": "ipython",
    "version": 3
   },
   "file_extension": ".py",
   "mimetype": "text/x-python",
   "name": "python",
   "nbconvert_exporter": "python",
   "pygments_lexer": "ipython3",
   "version": "3.11.5"
  }
 },
 "nbformat": 4,
 "nbformat_minor": 2
}
